{
 "cells": [
  {
   "cell_type": "markdown",
   "id": "1eeafead-8359-4588-a4ab-edaea396f80c",
   "metadata": {},
   "source": [
    "1. Dennis ritchie created python\n",
    "2. Python support dynamic programming\n",
    "3. Yes, Python is case sensitive when dealing with identifiers\n",
    "4. The correct extension for a Python file is .py\n",
    "5. Python is interpreted language\n",
    "7.## is hash is used for single line comment\n",
    "8. python -- version\n",
    "9. using lambda function\n",
    "10. pip install packaging\n",
    "11. sum,std,mean,Enumerate: Returns the length of an iterable and loops through its items simultaneously, outputting the index of each item \n",
    "Float: Returns a floating-point number from a string or a number \n",
    "Divmod: Returns the quotient and the remainder of dividing two numbers \n",
    "Exec: Executes the given condition and prints the output in Python expression \n",
    "Isinstance: Compares the classes of objects, returning True if the object is an instance of that class \n",
    "Dict: Creates dictionaries, which are a fundamental built-in data structure in Python \n",
    "Map: Applies a given function to each item of an iterable, returning a list of items as result\n",
    "12.  '79' char\n",
    "13.  ase of use: Python is relatively easy to learn and use. \n",
    "Flexibility: Python is flexible across domains and can be used for a wide range of projects. \n",
    "Cross-platform compatibility: Python is platform independent. \n",
    "Large libraries: Python has a large collection of libraries and modules. \n",
    "Automation and scripting: Python can be used for automation and scripting. \n",
    "Data analysis: Python is commonly used for data analysis and visualization. \n",
    "Career opportunities: Python is used in many industries, including data science, machine learning, game development, and web development. \n",
    "Open-source: Python is an open-source language. \n",
    "Extensible: Python is extensible, meaning there is always scope for improvement. \n",
    "\n",
    "14. Python uses a variety of methods to manage memory, including:\n",
    "Private heap\n",
    "A portion of memory that is exclusive to the Python process and stores all Python objects and data structures. The size of the private heap can grow or shrink based on the memory requirements of the Python process. \n",
    "Reference counting\n",
    "Tracks how often a program uses an object. When the reference count reaches zero, the memory manager can reclaim the memory occupied by the object. \n",
    "Garbage collection\n",
    "Automatically detects memory that the system isn't using and frees up that space. \n",
    "Generators and iterators\n",
    "Create data streams that load one at a time rather than storing the entire data sequence automatically within the memory. \n",
    "GIL\n",
    "Prevents threads from interfering with the others' reference counts\n",
    "\n"
   ]
  },
  {
   "cell_type": "code",
   "execution_count": 2,
   "id": "9cc05944-4b95-41e3-a839-57303f7b029d",
   "metadata": {},
   "outputs": [
    {
     "ename": "NameError",
     "evalue": "name 'python' is not defined",
     "output_type": "error",
     "traceback": [
      "\u001b[1;31m---------------------------------------------------------------------------\u001b[0m",
      "\u001b[1;31mNameError\u001b[0m                                 Traceback (most recent call last)",
      "Cell \u001b[1;32mIn[2], line 1\u001b[0m\n\u001b[1;32m----> 1\u001b[0m python \u001b[38;5;241m-\u001b[39m\u001b[38;5;241m-\u001b[39m version\n",
      "\u001b[1;31mNameError\u001b[0m: name 'python' is not defined"
     ]
    }
   ],
   "source": []
  }
 ],
 "metadata": {
  "kernelspec": {
   "display_name": "Python 3 (ipykernel)",
   "language": "python",
   "name": "python3"
  },
  "language_info": {
   "codemirror_mode": {
    "name": "ipython",
    "version": 3
   },
   "file_extension": ".py",
   "mimetype": "text/x-python",
   "name": "python",
   "nbconvert_exporter": "python",
   "pygments_lexer": "ipython3",
   "version": "3.12.7"
  }
 },
 "nbformat": 4,
 "nbformat_minor": 5
}
